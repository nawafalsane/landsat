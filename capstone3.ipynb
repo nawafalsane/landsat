{
 "cells": [
  {
   "cell_type": "code",
   "execution_count": 20,
   "metadata": {},
   "outputs": [],
   "source": [
    "import pandas as pd\n",
    "import re"
   ]
  },
  {
   "cell_type": "code",
   "execution_count": 21,
   "metadata": {
    "scrolled": true
   },
   "outputs": [],
   "source": [
    "landsat5 = pd.read_csv('./LANDSAT_TM_C1_281139.csv', encoding = \"ISO-8859-1\", parse_dates=['Acquisition Date'])\n",
    "landsat5[\"Acquisition Date\"] = pd.to_datetime(landsat5['Acquisition Date'].dt.strftime(\"%Y%m%d\"))"
   ]
  },
  {
   "cell_type": "code",
   "execution_count": 22,
   "metadata": {},
   "outputs": [
    {
     "data": {
      "text/plain": [
       "(583, 66)"
      ]
     },
     "execution_count": 22,
     "metadata": {},
     "output_type": "execute_result"
    }
   ],
   "source": [
    "landsat5.shape"
   ]
  },
  {
   "cell_type": "code",
   "execution_count": 29,
   "metadata": {},
   "outputs": [
    {
     "data": {
      "text/plain": [
       "array([2002, 2001, 2000, 1999, 1998, 1997, 1996, 1995, 1994, 1993, 1992,\n",
       "       1991, 1990, 1989, 1988, 1987, 1986, 1985, 1984])"
      ]
     },
     "execution_count": 29,
     "metadata": {},
     "output_type": "execute_result"
    }
   ],
   "source": [
    "landsat5['Acquisition Date'].dt.year.unique()"
   ]
  },
  {
   "cell_type": "code",
   "execution_count": 7,
   "metadata": {},
   "outputs": [],
   "source": [
    "landsat5.sort_values(by='Acquisition Date', inplace=True)\n",
    "landsat5.reset_index(inplace=True)\n",
    "landsat5.rename(mapper={\"Acquisition Date\": \"date\"}, axis=1, inplace=True)"
   ]
  },
  {
   "cell_type": "code",
   "execution_count": 8,
   "metadata": {},
   "outputs": [],
   "source": [
    "landsat5_gs = pd.DataFrame(columns=['area', 'date', 'b', 'gs_location'])"
   ]
  },
  {
   "cell_type": "code",
   "execution_count": 12,
   "metadata": {},
   "outputs": [
    {
     "data": {
      "text/plain": [
       "['gs://gcp-public-data-landsat/LT05/01/165/043/LT05_L1GS_165043_19891226_20180615_01_T2/LT05_L1GS_165043_19891226_20180615_01_T2_B1.TIF\\n',\n",
       " 'gs://gcp-public-data-landsat/LT05/01/165/043/LT05_L1GS_165043_19891226_20180615_01_T2/LT05_L1GS_165043_19891226_20180615_01_T2_B2.TIF\\n',\n",
       " 'gs://gcp-public-data-landsat/LT05/01/165/043/LT05_L1GS_165043_19891226_20180615_01_T2/LT05_L1GS_165043_19891226_20180615_01_T2_B3.TIF\\n',\n",
       " 'gs://gcp-public-data-landsat/LT05/01/165/043/LT05_L1GS_165043_19891226_20180615_01_T2/LT05_L1GS_165043_19891226_20180615_01_T2_B4.TIF\\n',\n",
       " 'gs://gcp-public-data-landsat/LT05/01/165/043/LT05_L1GS_165043_19891226_20180615_01_T2/LT05_L1GS_165043_19891226_20180615_01_T2_B5.TIF\\n']"
      ]
     },
     "execution_count": 12,
     "metadata": {},
     "output_type": "execute_result"
    }
   ],
   "source": [
    "land5_lst = []\n",
    "with open('landsat5.txt', 'r') as file:\n",
    "    for line in file:\n",
    "        rex = re.compile(r'.TIF')\n",
    "        if rex.search(line) != None:\n",
    "            land5_lst.append(line)\n",
    "land5_lst[:5]"
   ]
  },
  {
   "cell_type": "code",
   "execution_count": 13,
   "metadata": {},
   "outputs": [],
   "source": [
    "for idx, line in enumerate(land5_lst):\n",
    "    dic = {}\n",
    "    spl = line.split(\"_\")\n",
    "    dic[\"area\"] = spl[2][:3]\n",
    "    dic[\"date\"] = spl[3]\n",
    "    dic[\"b\"] = spl[-1].split(\".\")[0]\n",
    "    dic[\"gs_location\"] = line\n",
    "    landsat5_gs.loc[idx] = dic"
   ]
  },
  {
   "cell_type": "code",
   "execution_count": 14,
   "metadata": {},
   "outputs": [
    {
     "data": {
      "text/plain": [
       "(4920, 4)"
      ]
     },
     "execution_count": 14,
     "metadata": {},
     "output_type": "execute_result"
    }
   ],
   "source": [
    "landsat5_gs.shape"
   ]
  },
  {
   "cell_type": "code",
   "execution_count": 15,
   "metadata": {},
   "outputs": [],
   "source": [
    "landsat5_gs = landsat5_gs[(landsat5_gs.b == 'B4') | (landsat5_gs.b == 'B3')]\n",
    "landsat5_gs.reset_index(inplace=True)\n",
    "landsat5_gs[\"date\"] = pd.to_datetime(landsat5_gs[\"date\"])"
   ]
  },
  {
   "cell_type": "code",
   "execution_count": 16,
   "metadata": {},
   "outputs": [],
   "source": [
    "landsat5_merged = landsat5_gs.merge(landsat5, on=\"date\")"
   ]
  },
  {
   "cell_type": "code",
   "execution_count": 18,
   "metadata": {},
   "outputs": [
    {
     "data": {
      "text/plain": [
       "1524"
      ]
     },
     "execution_count": 18,
     "metadata": {},
     "output_type": "execute_result"
    }
   ],
   "source": [
    "landsat5_merged.isnull().sum().sum()"
   ]
  },
  {
   "cell_type": "code",
   "execution_count": 19,
   "metadata": {},
   "outputs": [],
   "source": [
    "landsat5_merged.gs_location = landsat5_merged.gs_location.str.replace(\"\\n\", \"\")"
   ]
  },
  {
   "cell_type": "code",
   "execution_count": null,
   "metadata": {},
   "outputs": [],
   "source": [
    "with open('landsat5_link.txt', 'w') as f:\n",
    "    for item in landsat5_merged.gs_location:\n",
    "        f.write(\"%s\\n\" % item)"
   ]
  }
 ],
 "metadata": {
  "kernelspec": {
   "display_name": "Python 3",
   "language": "python",
   "name": "python3"
  },
  "language_info": {
   "codemirror_mode": {
    "name": "ipython",
    "version": 3
   },
   "file_extension": ".py",
   "mimetype": "text/x-python",
   "name": "python",
   "nbconvert_exporter": "python",
   "pygments_lexer": "ipython3",
   "version": "3.6.5"
  }
 },
 "nbformat": 4,
 "nbformat_minor": 2
}
